{
 "cells": [
  {
   "cell_type": "code",
   "execution_count": 3,
   "id": "403f49e0-f45f-4447-8cc9-910b44f0960c",
   "metadata": {},
   "outputs": [],
   "source": [
    "import torch"
   ]
  },
  {
   "cell_type": "code",
   "execution_count": 4,
   "id": "96314387-d63c-4549-bf61-23685990dc84",
   "metadata": {},
   "outputs": [
    {
     "data": {
      "text/plain": [
       "tensor([0, 1, 2, 3])"
      ]
     },
     "execution_count": 4,
     "metadata": {},
     "output_type": "execute_result"
    }
   ],
   "source": [
    "\n",
    "x = torch.arange(4)\n",
    "x"
   ]
  },
  {
   "cell_type": "code",
   "execution_count": 5,
   "id": "584d7eb5-af65-461b-8704-47c0e7cb4245",
   "metadata": {},
   "outputs": [
    {
     "data": {
      "text/plain": [
       "tensor(3)"
      ]
     },
     "execution_count": 5,
     "metadata": {},
     "output_type": "execute_result"
    }
   ],
   "source": [
    "x[3]"
   ]
  },
  {
   "cell_type": "code",
   "execution_count": 7,
   "id": "0a8a5359-fec9-4dd2-b721-1925c23e1f6e",
   "metadata": {},
   "outputs": [
    {
     "data": {
      "text/plain": [
       "4"
      ]
     },
     "execution_count": 7,
     "metadata": {},
     "output_type": "execute_result"
    }
   ],
   "source": [
    "len(x)"
   ]
  },
  {
   "cell_type": "code",
   "execution_count": 6,
   "id": "fe402fc0-c3fa-4898-bf8e-8a8397a492c5",
   "metadata": {},
   "outputs": [
    {
     "data": {
      "text/plain": [
       "torch.Size([4])"
      ]
     },
     "execution_count": 6,
     "metadata": {},
     "output_type": "execute_result"
    }
   ],
   "source": [
    "x.shape"
   ]
  },
  {
   "cell_type": "code",
   "execution_count": 8,
   "id": "f6c8cdeb-1171-470c-b044-51f75d3afa3a",
   "metadata": {},
   "outputs": [
    {
     "data": {
      "text/plain": [
       "tensor([[ 0,  1,  2,  3],\n",
       "        [ 4,  5,  6,  7],\n",
       "        [ 8,  9, 10, 11],\n",
       "        [12, 13, 14, 15],\n",
       "        [16, 17, 18, 19]])"
      ]
     },
     "execution_count": 8,
     "metadata": {},
     "output_type": "execute_result"
    }
   ],
   "source": [
    "A = torch.arange(20).reshape(5,4)\n",
    "A"
   ]
  },
  {
   "cell_type": "code",
   "execution_count": 9,
   "id": "90b5889e-59ec-4df7-b58c-2403e5baaa1a",
   "metadata": {},
   "outputs": [
    {
     "data": {
      "text/plain": [
       "tensor([[ 0,  4,  8, 12, 16],\n",
       "        [ 1,  5,  9, 13, 17],\n",
       "        [ 2,  6, 10, 14, 18],\n",
       "        [ 3,  7, 11, 15, 19]])"
      ]
     },
     "execution_count": 9,
     "metadata": {},
     "output_type": "execute_result"
    }
   ],
   "source": [
    "A = A.T\n",
    "A"
   ]
  },
  {
   "cell_type": "code",
   "execution_count": 11,
   "id": "d08ca5cb-7e3f-4acd-b952-45ffb83c1775",
   "metadata": {},
   "outputs": [
    {
     "data": {
      "text/plain": [
       "tensor([[True, True],\n",
       "        [True, True]])"
      ]
     },
     "execution_count": 11,
     "metadata": {},
     "output_type": "execute_result"
    }
   ],
   "source": [
    "B = torch.tensor(([1,2],[2,1]))\n",
    "B == B.T\n",
    "# 答案bool向量"
   ]
  },
  {
   "cell_type": "code",
   "execution_count": 14,
   "id": "9a0245d1-b180-4da2-82ee-cc4b399e2ebb",
   "metadata": {},
   "outputs": [
    {
     "data": {
      "text/plain": [
       "tensor([[[ 0,  1,  2,  3],\n",
       "         [ 4,  5,  6,  7],\n",
       "         [ 8,  9, 10, 11]],\n",
       "\n",
       "        [[12, 13, 14, 15],\n",
       "         [16, 17, 18, 19],\n",
       "         [20, 21, 22, 23]]])"
      ]
     },
     "execution_count": 14,
     "metadata": {},
     "output_type": "execute_result"
    }
   ],
   "source": [
    "X = torch.arange(24).reshape(2,3,4)\n",
    "X"
   ]
  },
  {
   "cell_type": "code",
   "execution_count": 15,
   "id": "d869d726-acae-43bd-8807-6da05da63552",
   "metadata": {},
   "outputs": [],
   "source": [
    "C = X.clone() # 复制tensor"
   ]
  },
  {
   "cell_type": "code",
   "execution_count": 16,
   "id": "8c87f44d-80f0-454b-856a-ddb29db063a4",
   "metadata": {},
   "outputs": [
    {
     "data": {
      "text/plain": [
       "tensor([[[ 0,  1,  2,  3],\n",
       "         [ 4,  5,  6,  7],\n",
       "         [ 8,  9, 10, 11]],\n",
       "\n",
       "        [[12, 13, 14, 15],\n",
       "         [16, 17, 18, 19],\n",
       "         [20, 21, 22, 23]]])"
      ]
     },
     "execution_count": 16,
     "metadata": {},
     "output_type": "execute_result"
    }
   ],
   "source": [
    "C"
   ]
  },
  {
   "cell_type": "code",
   "execution_count": 17,
   "id": "ec1ce0ed-2d43-4046-bd87-f351e23e2b61",
   "metadata": {},
   "outputs": [
    {
     "data": {
      "text/plain": [
       "(tensor([[[ 0,  1,  2,  3],\n",
       "          [ 4,  5,  6,  7],\n",
       "          [ 8,  9, 10, 11]],\n",
       " \n",
       "         [[12, 13, 14, 15],\n",
       "          [16, 17, 18, 19],\n",
       "          [20, 21, 22, 23]]]),\n",
       " tensor([[[ 0,  2,  4,  6],\n",
       "          [ 8, 10, 12, 14],\n",
       "          [16, 18, 20, 22]],\n",
       " \n",
       "         [[24, 26, 28, 30],\n",
       "          [32, 34, 36, 38],\n",
       "          [40, 42, 44, 46]]]))"
      ]
     },
     "execution_count": 17,
     "metadata": {},
     "output_type": "execute_result"
    }
   ],
   "source": [
    "X, X + C"
   ]
  },
  {
   "cell_type": "code",
   "execution_count": 19,
   "id": "dbd6d750-e3d7-4a6f-8f19-303ac44456ba",
   "metadata": {},
   "outputs": [
    {
     "data": {
      "text/plain": [
       "tensor([[[  0,   1,   4,   9],\n",
       "         [ 16,  25,  36,  49],\n",
       "         [ 64,  81, 100, 121]],\n",
       "\n",
       "        [[144, 169, 196, 225],\n",
       "         [256, 289, 324, 361],\n",
       "         [400, 441, 484, 529]]])"
      ]
     },
     "execution_count": 19,
     "metadata": {},
     "output_type": "execute_result"
    }
   ],
   "source": [
    "C * X #哈达马积 每个对应元素相乘 非矩阵乘法 必须要形状一样"
   ]
  },
  {
   "cell_type": "code",
   "execution_count": 24,
   "id": "d81d73f0-9c21-4129-aafb-82e7bb474b39",
   "metadata": {},
   "outputs": [
    {
     "data": {
      "text/plain": [
       "tensor([[[ 0,  1,  2,  3],\n",
       "         [ 4,  5,  6,  7],\n",
       "         [ 8,  9, 10, 11]],\n",
       "\n",
       "        [[12, 13, 14, 15],\n",
       "         [16, 17, 18, 19],\n",
       "         [20, 21, 22, 23]]])"
      ]
     },
     "execution_count": 24,
     "metadata": {},
     "output_type": "execute_result"
    }
   ],
   "source": [
    "X.sum() #标量\n",
    "X"
   ]
  },
  {
   "cell_type": "code",
   "execution_count": 22,
   "id": "d5db6f5e-b9ac-4df2-9c71-6d6da0d9cfbe",
   "metadata": {},
   "outputs": [
    {
     "data": {
      "text/plain": [
       "tensor([[12, 14, 16, 18],\n",
       "        [20, 22, 24, 26],\n",
       "        [28, 30, 32, 34]])"
      ]
     },
     "execution_count": 22,
     "metadata": {},
     "output_type": "execute_result"
    }
   ],
   "source": [
    "A_sum_axis0 = X.sum(axis = 0)\n",
    "A_sum_axis0"
   ]
  },
  {
   "cell_type": "code",
   "execution_count": 25,
   "id": "a944d946-0cab-4cb8-8167-12ab743447c4",
   "metadata": {},
   "outputs": [
    {
     "data": {
      "text/plain": [
       "tensor([60, 66, 72, 78])"
      ]
     },
     "execution_count": 25,
     "metadata": {},
     "output_type": "execute_result"
    }
   ],
   "source": [
    "X.sum(axis = [0,1])#axis里面向量作为index求和"
   ]
  },
  {
   "cell_type": "code",
   "execution_count": 26,
   "id": "cc2d5fd2-9f29-4433-a568-2dde41376e8e",
   "metadata": {},
   "outputs": [
    {
     "data": {
      "text/plain": [
       "tensor([[12, 15, 18, 21],\n",
       "        [48, 51, 54, 57]])"
      ]
     },
     "execution_count": 26,
     "metadata": {},
     "output_type": "execute_result"
    }
   ],
   "source": [
    "X.sum(axis = 1)"
   ]
  },
  {
   "cell_type": "code",
   "execution_count": 27,
   "id": "f86aaf7a-da45-48d8-b593-3ea9457c37e8",
   "metadata": {},
   "outputs": [
    {
     "data": {
      "text/plain": [
       "tensor([ 66, 210])"
      ]
     },
     "execution_count": 27,
     "metadata": {},
     "output_type": "execute_result"
    }
   ],
   "source": [
    "X.sum(axis = [1,2])"
   ]
  },
  {
   "cell_type": "code",
   "execution_count": 38,
   "id": "efe27fbf-fdd0-45e2-89a4-a680608ab08d",
   "metadata": {},
   "outputs": [
    {
     "ename": "TypeError",
     "evalue": "'torch.Size' object is not callable",
     "output_type": "error",
     "traceback": [
      "\u001b[1;31m---------------------------------------------------------------------------\u001b[0m",
      "\u001b[1;31mTypeError\u001b[0m                                 Traceback (most recent call last)",
      "Cell \u001b[1;32mIn[38], line 3\u001b[0m\n\u001b[0;32m      1\u001b[0m X \u001b[38;5;241m=\u001b[39m X\u001b[38;5;241m.\u001b[39mfloat()\n\u001b[0;32m      2\u001b[0m X\u001b[38;5;241m.\u001b[39mmean(axis \u001b[38;5;241m=\u001b[39m \u001b[38;5;241m0\u001b[39m)\n\u001b[1;32m----> 3\u001b[0m X\u001b[38;5;241m.\u001b[39msum()\u001b[38;5;241m/\u001b[39mX\u001b[38;5;241m.\u001b[39mshape()\n",
      "\u001b[1;31mTypeError\u001b[0m: 'torch.Size' object is not callable"
     ]
    }
   ],
   "source": [
    "X = X.float()\n",
    "X.mean(axis = 0)"
   ]
  },
  {
   "cell_type": "code",
   "execution_count": 39,
   "id": "a62d1906-d993-471a-b76c-f6b9d3374aee",
   "metadata": {},
   "outputs": [
    {
     "data": {
      "text/plain": [
       "tensor([[[ 0.,  1.,  2.,  3.],\n",
       "         [ 4.,  5.,  6.,  7.],\n",
       "         [ 8.,  9., 10., 11.]],\n",
       "\n",
       "        [[12., 14., 16., 18.],\n",
       "         [20., 22., 24., 26.],\n",
       "         [28., 30., 32., 34.]]])"
      ]
     },
     "execution_count": 39,
     "metadata": {},
     "output_type": "execute_result"
    }
   ],
   "source": [
    "X.cumsum(axis = 0)"
   ]
  },
  {
   "cell_type": "code",
   "execution_count": 56,
   "id": "5203250c-55f7-48d1-8cb9-0745befba3b1",
   "metadata": {},
   "outputs": [
    {
     "data": {
      "text/plain": [
       "(tensor([[ 0.,  1.,  2.,  3.],\n",
       "         [ 4.,  5.,  6.,  7.],\n",
       "         [ 8.,  9., 10., 11.]]),\n",
       " tensor([1., 1., 1., 1.]),\n",
       " tensor([ 6., 22., 38.]))"
      ]
     },
     "execution_count": 56,
     "metadata": {},
     "output_type": "execute_result"
    }
   ],
   "source": [
    "#点积\n",
    "A = torch.arange(12,dtype = torch.float32).reshape(3,4)\n",
    "B = torch.arange(12,dtype = torch.float32).reshape(4,3)\n",
    "y = torch.ones(4,dtype = torch.float32)\n",
    "y = y.T\n",
    "x = torch.ones(4,dtype = torch.float32)\n",
    "A , y , torch.mv(A,y) #矩阵 . 向量点乘积\n"
   ]
  },
  {
   "cell_type": "code",
   "execution_count": 57,
   "id": "20983ba3-849e-4fcb-b0d6-62032f1478c0",
   "metadata": {},
   "outputs": [
    {
     "data": {
      "text/plain": [
       "(tensor([[ 0.,  1.,  2.,  3.],\n",
       "         [ 4.,  5.,  6.,  7.],\n",
       "         [ 8.,  9., 10., 11.]]),\n",
       " tensor([[ 0.,  1.,  2.],\n",
       "         [ 3.,  4.,  5.],\n",
       "         [ 6.,  7.,  8.],\n",
       "         [ 9., 10., 11.]]),\n",
       " tensor([[ 42.,  48.,  54.],\n",
       "         [114., 136., 158.],\n",
       "         [186., 224., 262.]]))"
      ]
     },
     "execution_count": 57,
     "metadata": {},
     "output_type": "execute_result"
    }
   ],
   "source": [
    "A,B , torch.mm(A,B)"
   ]
  },
  {
   "cell_type": "code",
   "execution_count": 58,
   "id": "2dc3d2af-05d8-49a5-8d65-ccdf099a742d",
   "metadata": {},
   "outputs": [
    {
     "data": {
      "text/plain": [
       "tensor(5.)"
      ]
     },
     "execution_count": 58,
     "metadata": {},
     "output_type": "execute_result"
    }
   ],
   "source": [
    "#向量L2范数 即F\n",
    "u = torch.tensor([3.0,-4.0])\n",
    "torch.norm(uuu)"
   ]
  },
  {
   "cell_type": "code",
   "execution_count": 59,
   "id": "e8d5439e-f952-43bf-8c8b-2a8514186a64",
   "metadata": {},
   "outputs": [
    {
     "data": {
      "text/plain": [
       "tensor(6.)"
      ]
     },
     "execution_count": 59,
     "metadata": {},
     "output_type": "execute_result"
    }
   ],
   "source": [
    "#同理，矩阵F范数\n",
    "torch.norm(torch.ones(4,9))\n",
    "# sqrt(∑xij^2)"
   ]
  },
  {
   "cell_type": "code",
   "execution_count": null,
   "id": "8e55db07-fc38-4541-b961-e5ba6e823ae0",
   "metadata": {},
   "outputs": [],
   "source": [
    "# 矩阵求导数\n",
    "#梯度和等高线正交 "
   ]
  },
  {
   "cell_type": "code",
   "execution_count": null,
   "id": "b00911f8-872f-4239-8648-102e626ff980",
   "metadata": {},
   "outputs": [],
   "source": [
    "#自动求导\n"
   ]
  },
  {
   "cell_type": "code",
   "execution_count": null,
   "id": "f4a5e978-4497-4287-ac0c-68c8bed2161f",
   "metadata": {},
   "outputs": [],
   "source": [
    "#1.计算图 -> 树类结构 tensorflow\n",
    "#最底部的节点是基本向量矩阵\n",
    "#每一层都代表一个基本计算：内积，乘积，加减法"
   ]
  },
  {
   "cell_type": "code",
   "execution_count": 64,
   "id": "b8bcd472-dd7c-4876-8622-5a4333367eda",
   "metadata": {},
   "outputs": [
    {
     "name": "stdout",
     "output_type": "stream",
     "text": [
      "Channels:\n",
      " - defaults\n",
      "Platform: win-64\n",
      "Collecting package metadata (repodata.json): ...working... done\n",
      "Solving environment: ...working... failed\n"
     ]
    },
    {
     "name": "stderr",
     "output_type": "stream",
     "text": [
      "\n",
      "LibMambaUnsatisfiableError: Encountered problems while solving:\n",
      "  - package mxnet-1.2.1-h8cc8929_0 requires py-mxnet 1.2.1.*, but none of the providers can be installed\n",
      "\n",
      "Could not solve for environment specs\n",
      "The following packages are incompatible\n",
      "├─ \u001b[32mmxnet =* *\u001b[0m is installable with the potential options\n",
      "│  ├─ \u001b[32mmxnet 1.1.0\u001b[0m would require\n",
      "│  │  └─ \u001b[32mpython >=3.5,<3.6.0a0 *\u001b[0m, which can be installed;\n",
      "│  ├─ \u001b[32mmxnet 1.1.0\u001b[0m would require\n",
      "│  │  └─ \u001b[32mpython >=3.6,<3.7.0a0 *\u001b[0m, which can be installed;\n",
      "│  └─ \u001b[32mmxnet 1.2.1\u001b[0m would require\n",
      "│     └─ \u001b[32mpy-mxnet =1.2.1 *\u001b[0m with the potential options\n",
      "│        ├─ \u001b[32mpy-mxnet 1.2.1\u001b[0m would require\n",
      "│        │  └─ \u001b[32mpython >=3.5,<3.6.0a0 *\u001b[0m, which can be installed;\n",
      "│        └─ \u001b[32mpy-mxnet 1.2.1\u001b[0m would require\n",
      "│           └─ \u001b[32mpython >=3.6,<3.7.0a0 *\u001b[0m, which can be installed;\n",
      "└─ \u001b[31mpin on python 3.12.* =* *\u001b[0m is not installable because it requires\n",
      "   └─ \u001b[31mpython =3.12 *\u001b[0m, which conflicts with any installable versions previously reported.\n",
      "\n",
      "Pins seem to be involved in the conflict. Currently pinned specs:\n",
      " - python=3.12\n",
      "\n",
      "\n"
     ]
    },
    {
     "ename": "ModuleNotFoundError",
     "evalue": "No module named 'mxnet'",
     "output_type": "error",
     "traceback": [
      "\u001b[1;31m---------------------------------------------------------------------------\u001b[0m",
      "\u001b[1;31mModuleNotFoundError\u001b[0m                       Traceback (most recent call last)",
      "Cell \u001b[1;32mIn[64], line 2\u001b[0m\n\u001b[0;32m      1\u001b[0m get_ipython()\u001b[38;5;241m.\u001b[39msystem(\u001b[38;5;124m'\u001b[39m\u001b[38;5;124mconda install mxnet\u001b[39m\u001b[38;5;124m'\u001b[39m)\n\u001b[1;32m----> 2\u001b[0m \u001b[38;5;28;01mfrom\u001b[39;00m \u001b[38;5;21;01mmxnet\u001b[39;00m \u001b[38;5;28;01mimport\u001b[39;00m sym\n",
      "\u001b[1;31mModuleNotFoundError\u001b[0m: No module named 'mxnet'"
     ]
    }
   ],
   "source": [
    "!conda install mxnet\n",
    "from mxnet import sym "
   ]
  },
  {
   "cell_type": "code",
   "execution_count": 60,
   "id": "205b31c3-d3ee-4dde-98a6-3bbd1500506b",
   "metadata": {},
   "outputs": [
    {
     "ename": "NameError",
     "evalue": "name 'sym' is not defined",
     "output_type": "error",
     "traceback": [
      "\u001b[1;31m---------------------------------------------------------------------------\u001b[0m",
      "\u001b[1;31mNameError\u001b[0m                                 Traceback (most recent call last)",
      "Cell \u001b[1;32mIn[60], line 1\u001b[0m\n\u001b[1;32m----> 1\u001b[0m a \u001b[38;5;241m=\u001b[39m sym\u001b[38;5;241m.\u001b[39mvar()\n\u001b[0;32m      2\u001b[0m b \u001b[38;5;241m=\u001b[39m sym\u001b[38;5;241m.\u001b[39mvar()\n\u001b[0;32m      3\u001b[0m c \u001b[38;5;241m=\u001b[39m \u001b[38;5;241m2\u001b[39m\u001b[38;5;241m*\u001b[39ma \u001b[38;5;241m+\u001b[39m b\n",
      "\u001b[1;31mNameError\u001b[0m: name 'sym' is not defined"
     ]
    }
   ],
   "source": [
    "a = sym.var()\n",
    "b = sym.var()\n",
    "c = 2*a + b"
   ]
  },
  {
   "cell_type": "code",
   "execution_count": null,
   "id": "06c83d37-8735-498b-81db-cdf3bca40434",
   "metadata": {},
   "outputs": [],
   "source": []
  }
 ],
 "metadata": {
  "kernelspec": {
   "display_name": "Python 3 (ipykernel)",
   "language": "python",
   "name": "python3"
  },
  "language_info": {
   "codemirror_mode": {
    "name": "ipython",
    "version": 3
   },
   "file_extension": ".py",
   "mimetype": "text/x-python",
   "name": "python",
   "nbconvert_exporter": "python",
   "pygments_lexer": "ipython3",
   "version": "3.12.9"
  }
 },
 "nbformat": 4,
 "nbformat_minor": 5
}
