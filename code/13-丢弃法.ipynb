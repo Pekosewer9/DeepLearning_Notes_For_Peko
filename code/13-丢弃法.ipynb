{
 "cells": [
  {
   "cell_type": "code",
   "execution_count": 7,
   "id": "d5195177",
   "metadata": {},
   "outputs": [],
   "source": [
    "# 期望不变 ->保持模型平滑，如果期望变小，很有可能所有参数变大，期望是线性的，和单层输出一致\n",
    "import torch\n",
    "from torch import nn\n",
    "from d2l import torch as d2l\n",
    "\n",
    "def dropout_layer (X,dropout):   #X为dropout层的输入，dropout为设置的丢弃概率\n",
    "    assert 0<=dropout<=1        #丢弃概率介于0，1之间\n",
    "    if dropout == 1:\n",
    "       return torch.zeros_like(X) #若丢弃概率为1，则X的全部项均被置0\n",
    "    if dropout == 0:\n",
    "       return X                   #若丢弃概率为0，不对X作丢弃操作，直接返回X\n",
    "    mask=(torch.Tensor(X.shape).uniform_(0,1)>dropout).float() #用uniform函数生成0-1间的随机实数，利用”>\"，将大于dropout的记为1，小于dropout的记为0，实现丢弃操作\n",
    "    return mask*X/(1-dropout) #将mask与X相乘实现丢弃操作，并除以(1-dropout)，这里不使用选中X中元素置0的原因是相乘操作相比选中操作更快"
   ]
  },
  {
   "cell_type": "code",
   "execution_count": 8,
   "id": "8ff5ba10",
   "metadata": {},
   "outputs": [
    {
     "name": "stdout",
     "output_type": "stream",
     "text": [
      "tensor([[ 0.,  1.,  2.,  3.,  4.,  5.,  6.,  7.],\n",
      "        [ 8.,  9., 10., 11., 12., 13., 14., 15.]])\n",
      "tensor([[ 0.,  1.,  2.,  3.,  4.,  5.,  6.,  7.],\n",
      "        [ 8.,  9., 10., 11., 12., 13., 14., 15.]])\n",
      "tensor([[ 0.,  0.,  0.,  0.,  0.,  0.,  0., 14.],\n",
      "        [ 0., 18.,  0.,  0., 24.,  0.,  0., 30.]])\n",
      "tensor([[0., 0., 0., 0., 0., 0., 0., 0.],\n",
      "        [0., 0., 0., 0., 0., 0., 0., 0.]])\n"
     ]
    }
   ],
   "source": [
    "#丢弃法测试\n",
    "X=torch.arange(16,dtype=torch.float32).reshape((2,8))\n",
    "print(X)\n",
    "print(dropout_layer (X,0.))  #丢弃率设置为0\n",
    "print(dropout_layer (X,0.5)) #丢弃率设置为0.5\n",
    "print(dropout_layer (X,1))   #丢弃率设置为1\n"
   ]
  },
  {
   "cell_type": "code",
   "execution_count": null,
   "id": "a2af3242-9fc7-4fd5-a8b4-61d9c3e3f576",
   "metadata": {},
   "outputs": [],
   "source": [
    "# 训练的时候dropout Net(is_training = True)\n",
    "# 测试的时候不dropout\n",
    "# loss = nn.CrossEntropyLoss()\n",
    "#"
   ]
  },
  {
   "cell_type": "code",
   "execution_count": 10,
   "id": "ca74d67b-44c5-40ca-91b6-ce57410281ec",
   "metadata": {},
   "outputs": [
    {
     "ename": "AttributeError",
     "evalue": "module 'torch.nn' has no attribute 'Dropout1'",
     "output_type": "error",
     "traceback": [
      "\u001b[1;31m---------------------------------------------------------------------------\u001b[0m",
      "\u001b[1;31mAttributeError\u001b[0m                            Traceback (most recent call last)",
      "Cell \u001b[1;32mIn[10], line 3\u001b[0m\n\u001b[0;32m      1\u001b[0m net \u001b[38;5;241m=\u001b[39m nn\u001b[38;5;241m.\u001b[39mSequential(\n\u001b[0;32m      2\u001b[0m     nn\u001b[38;5;241m.\u001b[39mFlatten(),nn\u001b[38;5;241m.\u001b[39mLinear(\u001b[38;5;241m784\u001b[39m,\u001b[38;5;241m256\u001b[39m),nn\u001b[38;5;241m.\u001b[39mReLU(),\n\u001b[1;32m----> 3\u001b[0m     nn\u001b[38;5;241m.\u001b[39mDropout1(dropout1),nn\u001b[38;5;241m.\u001b[39mLinear(\u001b[38;5;241m256\u001b[39m,\u001b[38;5;241m256\u001b[39m),nn\u001b[38;5;241m.\u001b[39mReLU(),\n\u001b[0;32m      4\u001b[0m     nn\u001b[38;5;241m.\u001b[39mDropout2(dropout2),nn\u001b[38;5;241m.\u001b[39mLinear(\u001b[38;5;241m256\u001b[39m,\u001b[38;5;241m10\u001b[39m)\n\u001b[0;32m      5\u001b[0m )\n",
      "\u001b[1;31mAttributeError\u001b[0m: module 'torch.nn' has no attribute 'Dropout1'"
     ]
    }
   ],
   "source": [
    "net = nn.Sequential(\n",
    "    nn.Flatten(),nn.Linear(784,256),nn.ReLU(),\n",
    "    nn.Dropout1(dropout1),nn.Linear(256,256),nn.ReLU(),\n",
    "    nn.Dropout2(dropout2),nn.Linear(256,10)\n",
    ")\n",
    "#最主流多层感知机的控制"
   ]
  },
  {
   "cell_type": "code",
   "execution_count": null,
   "id": "7dfd0a6d-095b-4608-87ca-def924961aa2",
   "metadata": {},
   "outputs": [],
   "source": []
  }
 ],
 "metadata": {
  "kernelspec": {
   "display_name": "Python 3 (ipykernel)",
   "language": "python",
   "name": "python3"
  },
  "language_info": {
   "codemirror_mode": {
    "name": "ipython",
    "version": 3
   },
   "file_extension": ".py",
   "mimetype": "text/x-python",
   "name": "python",
   "nbconvert_exporter": "python",
   "pygments_lexer": "ipython3",
   "version": "3.12.9"
  }
 },
 "nbformat": 4,
 "nbformat_minor": 5
}
